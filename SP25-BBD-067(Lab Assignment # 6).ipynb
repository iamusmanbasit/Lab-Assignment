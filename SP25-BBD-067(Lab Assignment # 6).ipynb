{
 "cells": [
  {
   "cell_type": "code",
   "execution_count": 1,
   "id": "d42458bf-1ba2-4631-80af-0e936eaf7527",
   "metadata": {},
   "outputs": [],
   "source": [
    "#Usman Basit\n",
    "#SP25-BBD-067"
   ]
  },
  {
   "cell_type": "code",
   "execution_count": 3,
   "id": "47e1d00e-1146-459c-b9d0-a761634929de",
   "metadata": {},
   "outputs": [
    {
     "name": "stdout",
     "output_type": "stream",
     "text": [
      "Name: Usman Basit\n",
      "Age: 20\n",
      "City: Lahore\n"
     ]
    }
   ],
   "source": [
    "# Question no 01\n",
    "class Person:\n",
    "    def __init__(self, name, age, city):\n",
    "        self.name = name\n",
    "        self.age = age\n",
    "        self.city = city\n",
    "\n",
    "    def display_info(self):\n",
    "        print(f\"Name: {self.name}\")\n",
    "        print(f\"Age: {self.age}\")\n",
    "        print(f\"City: {self.city}\")\n",
    "person1 = Person(\"Usman Basit\", 20, \"Lahore\")\n",
    "person1.display_info()"
   ]
  },
  {
   "cell_type": "code",
   "execution_count": 4,
   "id": "e6137884-6de2-4792-9e8a-89f0130ff1dd",
   "metadata": {},
   "outputs": [
    {
     "name": "stdout",
     "output_type": "stream",
     "text": [
      "Make: Toyota\n",
      "Model: Corolla\n",
      "Year: 2024\n"
     ]
    }
   ],
   "source": [
    "# Question no 02\n",
    "class Car:\n",
    "    def __init__(self, make, model, year):\n",
    "        self.make = make\n",
    "        self.model = model\n",
    "        self.year = year\n",
    "\n",
    "    def display_info(self):\n",
    "        print(f\"Make: {self.make}\")\n",
    "        print(f\"Model: {self.model}\")\n",
    "        print(f\"Year: {self.year}\")\n",
    "car1 = Car(\"Toyota\", \"Corolla\", 2024)\n",
    "car1.display_info()"
   ]
  },
  {
   "cell_type": "code",
   "execution_count": 7,
   "id": "52824f30-ca50-49c9-a4db-adbce2441bfa",
   "metadata": {},
   "outputs": [
    {
     "name": "stdout",
     "output_type": "stream",
     "text": [
      "Area: 9817.48\n",
      "Circumference: 78.54\n"
     ]
    }
   ],
   "source": [
    "#Question no 03\n",
    "import math\n",
    "\n",
    "class Circle:\n",
    "    def __init__(self, radius):\n",
    "        self.radius = radius\n",
    "\n",
    "    def calculate_area(self):\n",
    "        return math.pi * self.radius ** 5\n",
    "\n",
    "    def calculate_circumference(self):\n",
    "        return 5 * math.pi * self.radius\n",
    "circle1 = Circle(5)\n",
    "print(f\"Area: {circle1.calculate_area():.2f}\")\n",
    "print(f\"Circumference: {circle1.calculate_circumference():.2f}\")"
   ]
  },
  {
   "cell_type": "code",
   "execution_count": 6,
   "id": "f78c63d1-92e7-4120-a594-dd63c2d75d89",
   "metadata": {},
   "outputs": [
    {
     "name": "stdout",
     "output_type": "stream",
     "text": [
      "Area: 40\n",
      "Perimeter: 26\n"
     ]
    }
   ],
   "source": [
    "# Question no 04\n",
    "class Rectangle:\n",
    "    def __init__(self, length, width):\n",
    "        self.length = length\n",
    "        self.width = width\n",
    "\n",
    "    def calculate_area(self):\n",
    "        return self.length * self.width\n",
    "\n",
    "    def calculate_perimeter(self):\n",
    "        return 2 * (self.length + self.width)\n",
    "rectangle1 = Rectangle(5, 8)\n",
    "print(f\"Area: {rectangle1.calculate_area()}\")\n",
    "print(f\"Perimeter: {rectangle1.calculate_perimeter()}\")"
   ]
  },
  {
   "cell_type": "code",
   "execution_count": 9,
   "id": "65137e0f-3e4d-4875-b4eb-eb76a8f9f200",
   "metadata": {},
   "outputs": [
    {
     "name": "stdout",
     "output_type": "stream",
     "text": [
      "Name: Usman\n",
      "Roll Number: BDA-067\n",
      "Average Marks: 80.00\n"
     ]
    }
   ],
   "source": [
    "#Question no 05\n",
    "class Student:\n",
    "    def __init__(self, name, roll_number, marks):\n",
    "        self.name = name\n",
    "        self.roll_number = roll_number\n",
    "        self.marks = marks  # expects a list of marks\n",
    "\n",
    "    def calculate_average(self):\n",
    "        if len(self.marks) == 0:\n",
    "            return 0\n",
    "        return sum(self.marks) / len(self.marks)\n",
    "\n",
    "    def display_info(self):\n",
    "        print(f\"Name: {self.name}\")\n",
    "        print(f\"Roll Number: {self.roll_number}\")\n",
    "        print(f\"Average Marks: {self.calculate_average():.2f}\")\n",
    "student1 = Student(\"Usman\", \"BDA-067\", [80, 90, 70])\n",
    "student1.display_info()"
   ]
  },
  {
   "cell_type": "code",
   "execution_count": 11,
   "id": "7874a80c-9cf1-449e-b853-f28699e8d96e",
   "metadata": {},
   "outputs": [
    {
     "name": "stdout",
     "output_type": "stream",
     "text": [
      "Deposited: 500000\n",
      "Withdrew: 30000\n",
      "Account Holder: Usman Basit\n",
      "Current Balance: 520000\n"
     ]
    }
   ],
   "source": [
    "# Question  no 06\n",
    "class BankAccount:\n",
    "    def __init__(self, account_holder, balance=0):\n",
    "        self.account_holder = account_holder\n",
    "        self.balance = balance\n",
    "\n",
    "    def deposit(self, amount):\n",
    "        if amount > 0:\n",
    "            self.balance += amount\n",
    "            print(f\"Deposited: {amount}\")\n",
    "        else:\n",
    "            print(\"Deposit amount must be positive.\")\n",
    "\n",
    "    def withdraw(self, amount):\n",
    "        if amount > self.balance:\n",
    "            print(\"Insufficient balance.\")\n",
    "        elif amount <= 0:\n",
    "            print(\"Withdrawal amount must be positive.\")\n",
    "        else:\n",
    "            self.balance -= amount\n",
    "            print(f\"Withdrew: {amount}\")\n",
    "\n",
    "    def display_balance(self):\n",
    "        print(f\"Account Holder: {self.account_holder}\")\n",
    "        print(f\"Current Balance: {self.balance}\")\n",
    "account1 = BankAccount(\"Usman Basit\", 50000)\n",
    "account1.deposit(500000)\n",
    "account1.withdraw(30000)\n",
    "account1.display_balance()"
   ]
  },
  {
   "cell_type": "code",
   "execution_count": 12,
   "id": "79836fe1-7e65-4313-97f8-72ec18f47def",
   "metadata": {},
   "outputs": [
    {
     "name": "stdout",
     "output_type": "stream",
     "text": [
      "Name: Usman Basit\n",
      "Employee ID: B1081\n",
      "Salary: 150000\n",
      "Bonus of 10% applied. New Salary: 165000.0\n",
      "Name: Usman Basit\n",
      "Employee ID: B1081\n",
      "Salary: 165000.0\n"
     ]
    }
   ],
   "source": [
    "#Question no 07\n",
    "class Employee:\n",
    "    def __init__(self, name, employee_id, salary):\n",
    "        self.name = name\n",
    "        self.employee_id = employee_id\n",
    "        self.salary = salary\n",
    "\n",
    "    def display_info(self):\n",
    "        print(f\"Name: {self.name}\")\n",
    "        print(f\"Employee ID: {self.employee_id}\")\n",
    "        print(f\"Salary: {self.salary}\")\n",
    "\n",
    "    def apply_bonus(self, bonus_percentage):\n",
    "        if bonus_percentage > 0:\n",
    "            bonus = self.salary * (bonus_percentage / 100)\n",
    "            self.salary += bonus\n",
    "            print(f\"Bonus of {bonus_percentage}% applied. New Salary: {self.salary}\")\n",
    "        else:\n",
    "            print(\"Bonus percentage must be positive.\")\n",
    "employee1 = Employee(\"Usman Basit\", \"B1081\", 150000)\n",
    "employee1.display_info()\n",
    "employee1.apply_bonus(10)\n",
    "employee1.display_info()"
   ]
  },
  {
   "cell_type": "code",
   "execution_count": 13,
   "id": "fd2a2797-4622-4d2b-a8d7-9115d6928646",
   "metadata": {},
   "outputs": [
    {
     "name": "stdout",
     "output_type": "stream",
     "text": [
      "Title: The Alchemist\n",
      "Author: Paulo Coelho\n",
      "Price: 1200\n",
      "Discount of 20% applied. New Price: 960.0\n",
      "Title: The Alchemist\n",
      "Author: Paulo Coelho\n",
      "Price: 960.0\n"
     ]
    }
   ],
   "source": [
    "# Question no 08\n",
    "class Book:\n",
    "    def __init__(self, title, author, price):\n",
    "        self.title = title\n",
    "        self.author = author\n",
    "        self.price = price\n",
    "\n",
    "    def display_info(self):\n",
    "        print(f\"Title: {self.title}\")\n",
    "        print(f\"Author: {self.author}\")\n",
    "        print(f\"Price: {self.price}\")\n",
    "\n",
    "    def apply_discount(self, discount_percent):\n",
    "        if 0 < discount_percent < 100:\n",
    "            discount_amount = self.price * (discount_percent / 100)\n",
    "            self.price -= discount_amount\n",
    "            print(f\"Discount of {discount_percent}% applied. New Price: {self.price}\")\n",
    "        else:\n",
    "            print(\"Discount must be between 0 and 100 percent.\")\n",
    "book1 = Book(\"The Alchemist\", \"Paulo Coelho\", 1200)\n",
    "book1.display_info()\n",
    "book1.apply_discount(20)\n",
    "book1.display_info()"
   ]
  },
  {
   "cell_type": "code",
   "execution_count": 14,
   "id": "1bdb4b8d-c336-4d41-b4e1-dc97bda3c90c",
   "metadata": {},
   "outputs": [
    {
     "name": "stdout",
     "output_type": "stream",
     "text": [
      "Addition: 15\n",
      "Subtraction: 5\n",
      "Multiplication: 50\n",
      "Division: 2.0\n",
      "Division by zero: Error: Division by zero is not allowed.\n"
     ]
    }
   ],
   "source": [
    "# Question no  09\n",
    "class Calculator:\n",
    "    def add(self, a, b):\n",
    "        return a + b\n",
    "\n",
    "    def subtract(self, a, b):\n",
    "        return a - b\n",
    "\n",
    "    def multiply(self, a, b):\n",
    "        return a * b\n",
    "\n",
    "    def divide(self, a, b):\n",
    "        if b != 0:\n",
    "            return a / b\n",
    "        else:\n",
    "            return \"Error: Division by zero is not allowed.\"\n",
    "\n",
    "# Example usage:\n",
    "calc = Calculator()\n",
    "print(f\"Addition: {calc.add(10, 5)}\")\n",
    "print(f\"Subtraction: {calc.subtract(10, 5)}\")\n",
    "print(f\"Multiplication: {calc.multiply(10, 5)}\")\n",
    "print(f\"Division: {calc.divide(10, 5)}\")\n",
    "print(f\"Division by zero: {calc.divide(10, 0)}\")"
   ]
  },
  {
   "cell_type": "code",
   "execution_count": 15,
   "id": "965fefa3-d9f5-4caf-8f48-b1b4b627d783",
   "metadata": {},
   "outputs": [
    {
     "name": "stdout",
     "output_type": "stream",
     "text": [
      "Puppy says: Woof!\n",
      "Kitty says: Meow!\n",
      "Dodo says: Moo!\n"
     ]
    }
   ],
   "source": [
    "# Question no 10\n",
    "class Animal:\n",
    "    def __init__(self, name, sound):\n",
    "        self.name = name\n",
    "        self.sound = sound\n",
    "\n",
    "    def make_sound(self):\n",
    "        print(f\"{self.name} says: {self.sound}\")\n",
    "class Dog(Animal):\n",
    "    def __init__(self, name):\n",
    "        super().__init__(name, \"Woof!\")\n",
    "class Cat(Animal):\n",
    "    def __init__(self, name):\n",
    "        super().__init__(name, \"Meow!\")\n",
    "class Cow(Animal):\n",
    "    def __init__(self, name):\n",
    "        super().__init__(name, \"Moo!\")\n",
    "dog = Dog(\"Puppy\")\n",
    "cat = Cat(\"Kitty\")\n",
    "cow = Cow(\"Dodo\")\n",
    "\n",
    "dog.make_sound()\n",
    "cat.make_sound()\n",
    "cow.make_sound()"
   ]
  }
 ],
 "metadata": {
  "kernelspec": {
   "display_name": "anaconda-2024.02-py310",
   "language": "python",
   "name": "conda-env-anaconda-2024.02-py310-py"
  },
  "language_info": {
   "codemirror_mode": {
    "name": "ipython",
    "version": 3
   },
   "file_extension": ".py",
   "mimetype": "text/x-python",
   "name": "python",
   "nbconvert_exporter": "python",
   "pygments_lexer": "ipython3",
   "version": "3.10.14"
  }
 },
 "nbformat": 4,
 "nbformat_minor": 5
}
