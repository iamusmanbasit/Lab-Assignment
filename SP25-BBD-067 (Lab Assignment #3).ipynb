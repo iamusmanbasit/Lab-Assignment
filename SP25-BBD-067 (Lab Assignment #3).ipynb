{
 "cells": [
  {
   "cell_type": "markdown",
   "id": "37f5f8aa-e4da-4840-b72c-c0991e3cd2fa",
   "metadata": {},
   "source": [
    "# Usman Basit\n",
    "# SP25-BBD-067"
   ]
  },
  {
   "cell_type": "code",
   "execution_count": 4,
   "id": "e1cb83a2-33dc-4f43-9f96-d9cfa1b7aada",
   "metadata": {},
   "outputs": [
    {
     "name": "stdout",
     "output_type": "stream",
     "text": [
      "{'name': 'Usman', 'age': '19', 'city': 'Lahore', 'university': 'CUI Lahore'}\n"
     ]
    }
   ],
   "source": [
    "#a: Dictionary to Store Person Info\n",
    "\n",
    "Person = {\n",
    "    'name' : 'Usman',\n",
    "    'age' : '19',\n",
    "    'city' : 'Lahore',\n",
    "    'university': 'CUI Lahore'\n",
    "}\n",
    "print (Person)"
   ]
  },
  {
   "cell_type": "code",
   "execution_count": 5,
   "id": "cebb6450-4b38-4c15-98de-5ec9d2796cf9",
   "metadata": {},
   "outputs": [
    {
     "name": "stdout",
     "output_type": "stream",
     "text": [
      "{'hello': 2, 'Usman': 1, 'Basit': 1, 'world': 1}\n"
     ]
    }
   ],
   "source": [
    "#b: Count Word Frequency\n",
    "\n",
    "text = 'hello Usman Basit hello world'\n",
    "words = text.split()\n",
    "frequency = {}\n",
    "for word in words:\n",
    "    frequency[word] = frequency.get(word,0) + 1\n",
    "\n",
    "print (frequency)"
   ]
  },
  {
   "cell_type": "code",
   "execution_count": 7,
   "id": "a611e589-2ea1-4cb7-8f5b-ff1e7facbc9d",
   "metadata": {},
   "outputs": [
    {
     "name": "stdout",
     "output_type": "stream",
     "text": [
      "{'mango': 9, 'banana': 5, 'peach': 11}\n"
     ]
    }
   ],
   "source": [
    "#c: Simple Inventory System\n",
    "\n",
    "inventory = {\n",
    "    'mango': 9,\n",
    "    'banana': 5\n",
    "}\n",
    "item, quantity = 'peach', 11\n",
    "\n",
    "if item in inventory:\n",
    "    inventory[item] += quantity\n",
    "    \n",
    "else:\n",
    "    inventory[item] = quantity\n",
    "    \n",
    "print (inventory) "
   ]
  },
  {
   "cell_type": "code",
   "execution_count": 8,
   "id": "32312d0c-2a69-49da-bf3a-e1468bc80ca4",
   "metadata": {},
   "outputs": [
    {
     "name": "stdout",
     "output_type": "stream",
     "text": [
      "Most popular category: electronics\n",
      "Number of orders: 3\n"
     ]
    }
   ],
   "source": [
    "#d: Analyze Dataset for Popular Product Categor\n",
    "\n",
    "orders = [\n",
    "    {'category': 'electronics'},\n",
    "    {'category': 'fashion'},\n",
    "    {'category': 'electronics'},\n",
    "    {'category': 'books'},\n",
    "    {'category': 'electronics'}\n",
    "]\n",
    "\n",
    "category_counts = {}\n",
    "\n",
    "for order in orders:\n",
    "    category = order['category']\n",
    "    if category in category_counts:\n",
    "        category_counts[category] += 1\n",
    "    else:\n",
    "        category_counts[category] = 1\n",
    "\n",
    "most_popular_category = None\n",
    "highest_count = 0\n",
    "\n",
    "for category, count in category_counts.items():\n",
    "    if count > highest_count:\n",
    "        highest_count = count\n",
    "        most_popular_category = category \n",
    "\n",
    "print('Most popular category:', most_popular_category)\n",
    "print('Number of orders:', highest_count)"
   ]
  },
  {
   "cell_type": "code",
   "execution_count": 9,
   "id": "24872bee-1ce7-4a4b-8ada-9e41cb993ae1",
   "metadata": {},
   "outputs": [
    {
     "name": "stdout",
     "output_type": "stream",
     "text": [
      "Abdyllah 85\n",
      "Ahsan 90\n",
      "Anwar 85\n",
      "Furqan 88\n",
      "Sufiyan 90\n",
      "Average Grade: 87.6\n"
     ]
    }
   ],
   "source": [
    "#e: Create a dictionary to store student grades and calculate the average grade.\n",
    "\n",
    "grades = {\n",
    "    'Abdyllah': 85,\n",
    "    'Ahsan': 90, \n",
    "    'Anwar': 85, \n",
    "    'Furqan': 88, \n",
    "    'Sufiyan': 90\n",
    "}\n",
    "\n",
    "average = sum(grades.values()) / len(grades)\n",
    "\n",
    "for v,k in grades.items():\n",
    "    print(v, k)\n",
    "\n",
    "print(\"Average Grade:\", average)"
   ]
  },
  {
   "cell_type": "code",
   "execution_count": 10,
   "id": "d4eeb253-7faa-4317-8a8d-74dbf77ffb0a",
   "metadata": {},
   "outputs": [
    {
     "name": "stdout",
     "output_type": "stream",
     "text": [
      "Total Inventory Value: 31000.0\n",
      "Low Stock Items:\n",
      "mouse 4 in stock\n",
      "charger 2 in stock\n"
     ]
    }
   ],
   "source": [
    "#f: inventory management\n",
    "\n",
    "inventory = {}\n",
    "\n",
    "inventory['headset'] = {'quantity': 10, 'price': 2500.0}\n",
    "inventory['mouse'] = {'quantity': 3, 'price': 500.0}\n",
    "inventory['charger'] = {'quantity': 2, 'price': 2000.0}\n",
    "\n",
    "inventory['mouse']['quantity'] = 4\n",
    "\n",
    "\n",
    "total_value = 0\n",
    "for item in inventory.values():\n",
    "    total_value += item['quantity'] * item['price']\n",
    "\n",
    "print(\"Total Inventory Value:\", total_value)\n",
    "\n",
    "print(\"Low Stock Items:\")\n",
    "for name, item in inventory.items():\n",
    "    if item['quantity'] < 5:\n",
    "        print(name, item['quantity'], \"in stock\")"
   ]
  },
  {
   "cell_type": "code",
   "execution_count": 11,
   "id": "85917a54-176e-4a0c-92da-8b0c01b36786",
   "metadata": {},
   "outputs": [
    {
     "name": "stdout",
     "output_type": "stream",
     "text": [
      "Student Gradebook Report:\n",
      "\n",
      "Individual Student Averages:\n",
      "Zainab: 84.33\n",
      "Ali: 83.67\n",
      "Ahmad: 87.0\n",
      "Bilal: 74.0\n",
      "\n",
      "Highest grade in Math: 95\n",
      "Lowest grade in Math: 68\n",
      "\n",
      "Students ranked by average:\n",
      "1. Ahmad: 87.0\n",
      "2. Zainab: 84.33\n",
      "3. Ali: 83.67\n",
      "4. Bilal: 74.0\n"
     ]
    }
   ],
   "source": [
    "#g: Student Gradebook\n",
    "\n",
    "students = {\n",
    "    'Zainab': {'Math': 85, 'Science': 90, 'English': 78},\n",
    "    'Ali': {'Math': 72, 'Science': 88, 'English': 91},\n",
    "    'Ahmad': {'Math': 95, 'Science': 82, 'English': 84},\n",
    "    'Bilal': {'Math': 68, 'Science': 75, 'English': 79}\n",
    "}\n",
    "\n",
    "for student in students:\n",
    "    grades = list(students[student].values())\n",
    "    average = sum(grades) / len(grades)\n",
    "    students[student]['Average'] = round(average, 2)\n",
    "\n",
    "math_grades = []\n",
    "for student in students:\n",
    "    math_grades.append(students[student]['Math'])\n",
    "highest_math = max(math_grades)\n",
    "lowest_math = min(math_grades)\n",
    "\n",
    "student_list = []\n",
    "for name, data in students.items():\n",
    "    student_list.append((name, data['Average']))\n",
    "\n",
    "n = len(student_list)\n",
    "for i in range(n):\n",
    "    for j in range(0, n-i-1):\n",
    "        if student_list[j][1] < student_list[j+1][1]:\n",
    "            student_list[j], student_list[j+1] = student_list[j+1], student_list[j]\n",
    "\n",
    "print(\"Student Gradebook Report:\")\n",
    "print(\"\\nIndividual Student Averages:\")\n",
    "for student in students:\n",
    "    print(f\"{student}: {students[student]['Average']}\")\n",
    "\n",
    "print(f\"\\nHighest grade in Math: {highest_math}\")\n",
    "print(f\"Lowest grade in Math: {lowest_math}\")\n",
    "\n",
    "print(\"\\nStudents ranked by average:\")\n",
    "for rank, (name, avg) in enumerate(student_list, 1):\n",
    "    print(f\"{rank}. {name}: {avg}\")"
   ]
  },
  {
   "cell_type": "code",
   "execution_count": 13,
   "id": "cf07d66a-4a3c-40dd-bc17-0d9aa24e6f58",
   "metadata": {},
   "outputs": [
    {
     "name": "stdout",
     "output_type": "stream",
     "text": [
      "Added 5 apple(s) to cart.\n",
      "Added 2 egg(s) to cart.\n",
      "Removed 1 apple(s) from cart.\n",
      "Cart: {'apple': 4, 'egg': 2}\n",
      "Total with discount and tax: 4.47\n"
     ]
    }
   ],
   "source": [
    "#h: e-commerce store\n",
    "products = {\n",
    "    \"apple\": {\"price\": 0.5, \"quantity\": 100},\n",
    "    \"banana\": {\"price\": 0.3, \"quantity\": 80},\n",
    "    \"egg\": {\"price\": 1.2, \"quantity\": 50},\n",
    "    \"bread\": {\"price\": 1.0, \"quantity\": 40}\n",
    "}\n",
    "\n",
    "cart = {}\n",
    "\n",
    "product_name = \"apple\"\n",
    "quantity = 5\n",
    "if product_name in products:\n",
    "    if products[product_name][\"quantity\"] >= quantity:\n",
    "        cart[product_name] = cart.get(product_name, 0) + quantity\n",
    "        products[product_name][\"quantity\"] -= quantity\n",
    "        print(f\"Added {quantity} {product_name}(s) to cart.\")\n",
    "    else:\n",
    "        print(\"Not enough stock available.\")\n",
    "else:\n",
    "    print(\"Product not found.\")\n",
    "\n",
    "product_name = \"egg\"\n",
    "quantity = 2\n",
    "if product_name in products:\n",
    "    if products[product_name][\"quantity\"] >= quantity:\n",
    "        cart[product_name] = cart.get(product_name, 0) + quantity\n",
    "        products[product_name][\"quantity\"] -= quantity\n",
    "        print(f\"Added {quantity} {product_name}(s) to cart.\")\n",
    "    else:\n",
    "        print(\"Not enough stock available.\")\n",
    "else:\n",
    "    print(\"Product not found.\")\n",
    "\n",
    "product_name = \"apple\"\n",
    "quantity = 1\n",
    "if product_name in cart:\n",
    "    if cart[product_name] >= quantity:\n",
    "        cart[product_name] -= quantity\n",
    "        products[product_name][\"quantity\"] += quantity\n",
    "        if cart[product_name] == 0:\n",
    "            del cart[product_name]\n",
    "        print(f\"Removed {quantity} {product_name}(s) from cart.\")\n",
    "    else:\n",
    "        print(\"You don't have that many in your cart.\")\n",
    "else:\n",
    "    print(\"Product not in cart.\")\n",
    "\n",
    "discount = 0.05  \n",
    "tax_rate = 0.07  \n",
    "\n",
    "subtotal = 0\n",
    "for item, qty in cart.items():\n",
    "    subtotal += products[item][\"price\"] * qty\n",
    "\n",
    "total_after_discount = subtotal * (1 - discount)\n",
    "total_with_tax = total_after_discount * (1 + tax_rate)\n",
    "\n",
    "print(\"Cart:\", cart)\n",
    "print(\"Total with discount and tax:\", round(total_with_tax, 2))"
   ]
  }
 ],
 "metadata": {
  "kernelspec": {
   "display_name": "Python 3 (ipykernel)",
   "language": "python",
   "name": "python3"
  },
  "language_info": {
   "codemirror_mode": {
    "name": "ipython",
    "version": 3
   },
   "file_extension": ".py",
   "mimetype": "text/x-python",
   "name": "python",
   "nbconvert_exporter": "python",
   "pygments_lexer": "ipython3",
   "version": "3.12.7"
  }
 },
 "nbformat": 4,
 "nbformat_minor": 5
}
