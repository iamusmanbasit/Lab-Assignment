{
 "cells": [
  {
   "cell_type": "code",
   "execution_count": 4,
   "id": "51e126f0-b37a-43de-ae2e-7d0ba8a7025f",
   "metadata": {},
   "outputs": [
    {
     "name": "stdout",
     "output_type": "stream",
     "text": [
      "Hello, Usman the current time is 23:58:50\n"
     ]
    }
   ],
   "source": [
    "#Create a function named greet_with_time that takes a name as input and prints a greeting message along with the current time.\n",
    "import datetime\n",
    "def greet_time(name):\n",
    "    current_time = datetime.datetime.now().strftime(\"%H:%M:%S\")\n",
    "    print (f\"Hello, {name} the current time is {current_time}\")\n",
    "greet_time(\"Usman\")"
   ]
  },
  {
   "cell_type": "code",
   "execution_count": 5,
   "id": "a8d13166-45a1-4ed5-9f57-cfe80d68c708",
   "metadata": {},
   "outputs": [
    {
     "data": {
      "text/plain": [
       "32"
      ]
     },
     "execution_count": 5,
     "metadata": {},
     "output_type": "execute_result"
    }
   ],
   "source": [
    "#Write a function called calculate_average that takes three numbers as input and returns their average.\n",
    "def calculate_average(num_1,num_2,num_3):\n",
    "    summation = num_1 + num_2 + num_3\n",
    "    average  = summation / 3\n",
    "    return int(average)\n",
    "calculate_average(34,51,13)"
   ]
  },
  {
   "cell_type": "code",
   "execution_count": 6,
   "id": "b6684892-775d-45f0-98d3-c35a8b4a8f3e",
   "metadata": {},
   "outputs": [
    {
     "name": "stdin",
     "output_type": "stream",
     "text": [
      "Enter price here 50\n",
      "Enter discount here 10\n"
     ]
    },
    {
     "data": {
      "text/plain": [
       "45"
      ]
     },
     "execution_count": 6,
     "metadata": {},
     "output_type": "execute_result"
    }
   ],
   "source": [
    "#Define a function calculate_discount that takes a price and a discount percentage as input. Set a default discount percentage of 10%.\n",
    "price = input('Enter price here')\n",
    "discount = input('Enter discount here')\n",
    "def calculate_discount(price,discount):\n",
    "    discount = float(discount)/100\n",
    "    cal_price = int(price) * discount\n",
    "    final_price = int(price) - cal_price\n",
    "    return int(final_price)\n",
    "calculate_discount(price,discount)"
   ]
  },
  {
   "cell_type": "code",
   "execution_count": 7,
   "id": "4a77c5e4-7999-4a66-86b2-21f0124f5ab7",
   "metadata": {},
   "outputs": [
    {
     "name": "stdout",
     "output_type": "stream",
     "text": [
      "Hello, Python Learner!\n"
     ]
    }
   ],
   "source": [
    "#Excercise 1: Basic Function Call.\n",
    "def say_hello(name):\n",
    "    print(f\"Hello, {name}!\")\n",
    "say_hello('Python Learner')"
   ]
  },
  {
   "cell_type": "code",
   "execution_count": 8,
   "id": "6046ec67-8ae7-4a4b-9106-97b7686bd1c5",
   "metadata": {},
   "outputs": [
    {
     "name": "stdout",
     "output_type": "stream",
     "text": [
      "Good Morning Usman & Have a nice day!\n"
     ]
    }
   ],
   "source": [
    "#Excercise 2: Function with a Parameter.\n",
    "def greet_user(name):\n",
    "    print(f\"Good Morning {name} & Have a nice day!\")\n",
    "greet_user('Usman')"
   ]
  },
  {
   "cell_type": "code",
   "execution_count": 10,
   "id": "a8d5774a-b7ae-4d85-bbb3-66b5363ce948",
   "metadata": {},
   "outputs": [
    {
     "name": "stdout",
     "output_type": "stream",
     "text": [
      "Positional Argument\n",
      "\n",
      "I have a dog whose name is Bob.\n",
      "\n",
      "Keyword Argument:\n",
      "\n",
      "I have a cat whose name is Fiona.\n"
     ]
    }
   ],
   "source": [
    "#Excercise 3: Positional vs Keyword Arguments.\n",
    "print(\"Positional Argument\")\n",
    "def describe_pet(animal_type ,pet_name):\n",
    "    print(f\"\\nI have a {animal_type} whose name is {pet_name}.\")\n",
    "describe_pet('dog','Bob')\n",
    "print('\\nKeyword Argument:')\n",
    "describe_pet(animal_type= 'cat', pet_name = 'Fiona')"
   ]
  },
  {
   "cell_type": "code",
   "execution_count": 13,
   "id": "350e358f-ca4d-49a0-ad73-ef6abfb43b71",
   "metadata": {},
   "outputs": [
    {
     "name": "stdout",
     "output_type": "stream",
     "text": [
      " i have a Dog.\n",
      " My Dog is a Bob.\n",
      " i have a cat.\n",
      " My cat is a Fiona.\n"
     ]
    }
   ],
   "source": [
    "#Excercise 4: Default Parameters.\n",
    "def describe_pet(pet_name , animal_type = 'Dog'):\n",
    "    print(f\" i have a {animal_type}.\")\n",
    "    print(f\" My {animal_type} is a {pet_name}.\")\n",
    "describe_pet('Bob')\n",
    "describe_pet('Fiona','cat')"
   ]
  },
  {
   "cell_type": "code",
   "execution_count": 14,
   "id": "18fdf024-cc5e-469a-970f-1b5319edebd5",
   "metadata": {},
   "outputs": [
    {
     "name": "stdout",
     "output_type": "stream",
     "text": [
      "Usman Basit\n"
     ]
    }
   ],
   "source": [
    "#Excercise 5: Returning Formatted Name.\n",
    "def formatted_name(f_name,l_name):\n",
    "    full_name = f\"{f_name} {l_name}\"\n",
    "    return full_name.title()\n",
    "print(formatted_name('Usman','Basit'))"
   ]
  },
  {
   "cell_type": "code",
   "execution_count": 15,
   "id": "c19686ae-9619-447e-bb2f-95243e5ab3e4",
   "metadata": {},
   "outputs": [
    {
     "name": "stdout",
     "output_type": "stream",
     "text": [
      "Thomas Alva  Edison\n",
      "Thomas Edison\n"
     ]
    }
   ],
   "source": [
    "#Excercise 6: Optional Middle Name.\n",
    "def optional_names(first,last,middle=''):\n",
    "    if middle:\n",
    "        full_name = (f\"{first} {last} {middle}\")\n",
    "    else:\n",
    "        full_name = (f\"{first} {last}\")\n",
    "    return full_name\n",
    "print(optional_names('Thomas','Alva ','Edison'))\n",
    "print(optional_names('Thomas','Edison'))"
   ]
  },
  {
   "cell_type": "code",
   "execution_count": 16,
   "id": "0b87297c-a9d5-4fb1-a6cc-248002d5abbb",
   "metadata": {},
   "outputs": [
    {
     "name": "stdout",
     "output_type": "stream",
     "text": [
      "{'first': 'Usman', 'last': 'Basit', 'age': 20}\n",
      "{'first': 'Ahmad', 'last': 'Bilal'}\n"
     ]
    }
   ],
   "source": [
    "#Excercise 7: Returning a Dictionary.\n",
    "def build_person(first, last, age=None):\n",
    "    person = {\"first\": first, \"last\": last}\n",
    "    if age:\n",
    "        person[\"age\"] = age\n",
    "    return person\n",
    "\n",
    "print(build_person(\"Usman\", \"Basit\", 20))\n",
    "print(build_person(\"Ahmad\", \"Bilal\"))"
   ]
  },
  {
   "cell_type": "code",
   "execution_count": 17,
   "id": "230d2a04-c571-4e0e-bef1-7a488c4531f5",
   "metadata": {},
   "outputs": [
    {
     "name": "stdout",
     "output_type": "stream",
     "text": [
      "Hello, Furqan\n",
      "Hello, Ahmad\n",
      "Hello, Abdullah\n"
     ]
    }
   ],
   "source": [
    "#Excercise 8: Greeting a List of Users.\n",
    "def greet_users(usernames):\n",
    "    for name in usernames:\n",
    "        print(f\"Hello, {name.title()}\")\n",
    "\n",
    "users = [\"Furqan\", \"Ahmad\", \"Abdullah\"]\n",
    "greet_users(users)"
   ]
  },
  {
   "cell_type": "code",
   "execution_count": 18,
   "id": "7bba7ec3-d6e9-4959-a44d-819f532e4a4e",
   "metadata": {},
   "outputs": [
    {
     "name": "stdout",
     "output_type": "stream",
     "text": [
      "Here are the available toppings:\n",
      "- Pepperoni\n",
      "Here are the available toppings:\n",
      "- Green Peppers\n",
      "- Olives\n",
      "- Cheese\n"
     ]
    }
   ],
   "source": [
    "#Excercise 9: Arbitrary Number of Arguments.\n",
    "def make_pizza(*toppings):\n",
    "    print(\"Here are the available toppings:\")\n",
    "    for topping in toppings:\n",
    "        print(f\"- {topping}\")\n",
    "make_pizza('Pepperoni')\n",
    "make_pizza('Green Peppers','Olives','Cheese')"
   ]
  },
  {
   "cell_type": "code",
   "execution_count": 19,
   "id": "e123d90d-98e4-4e66-afd3-f27713a76c3d",
   "metadata": {},
   "outputs": [
    {
     "data": {
      "text/plain": [
       "{'first_name': 'Usman',\n",
       " 'last_name': 'Basit',\n",
       " 'location': 'Lahore',\n",
       " 'feild': 'BBD',\n",
       " 'Age': '20'}"
      ]
     },
     "execution_count": 19,
     "metadata": {},
     "output_type": "execute_result"
    }
   ],
   "source": [
    "#Excercise 10: Arbitrary Keyword Arguments.\n",
    "def build_profile(first, last, **info):\n",
    "    profile = {}\n",
    "    profile['first_name'] = first\n",
    "    profile['last_name'] = last\n",
    "    for k,v in info.items():\n",
    "        profile[k] = v\n",
    "    return profile\n",
    "build_profile('Usman','Basit',location = 'Lahore', feild = 'BBD', Age = '20')"
   ]
  },
  {
   "cell_type": "code",
   "execution_count": null,
   "id": "3d0bcb02-f49e-4c88-b9af-890c9bc2ce8d",
   "metadata": {},
   "outputs": [],
   "source": []
  }
 ],
 "metadata": {
  "kernelspec": {
   "display_name": "Python 3 (ipykernel)",
   "language": "python",
   "name": "python3"
  },
  "language_info": {
   "codemirror_mode": {
    "name": "ipython",
    "version": 3
   },
   "file_extension": ".py",
   "mimetype": "text/x-python",
   "name": "python",
   "nbconvert_exporter": "python",
   "pygments_lexer": "ipython3",
   "version": "3.12.7"
  }
 },
 "nbformat": 4,
 "nbformat_minor": 5
}
