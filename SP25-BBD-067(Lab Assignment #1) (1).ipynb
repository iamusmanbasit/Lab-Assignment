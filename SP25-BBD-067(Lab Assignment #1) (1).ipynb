{
  "metadata": {
    "kernelspec": {
      "name": "python",
      "display_name": "Python (Pyodide)",
      "language": "python"
    },
    "language_info": {
      "codemirror_mode": {
        "name": "python",
        "version": 3
      },
      "file_extension": ".py",
      "mimetype": "text/x-python",
      "name": "python",
      "nbconvert_exporter": "python",
      "pygments_lexer": "ipython3",
      "version": "3.8"
    }
  },
  "nbformat_minor": 5,
  "nbformat": 4,
  "cells": [
    {
      "id": "99b28c1b-45cc-4a9b-99c2-9d5f74ff6b51",
      "cell_type": "markdown",
      "source": "# SP25-BBD-067",
      "metadata": {}
    },
    {
      "id": "4d7a4711-de9e-49a2-bfdb-72246fec724c",
      "cell_type": "markdown",
      "source": "# USMAN BASIT",
      "metadata": {}
    },
    {
      "id": "cd22dada-6a34-4b77-b300-cc3f894c4d8c",
      "cell_type": "markdown",
      "source": "# List of favourite movies",
      "metadata": {}
    },
    {
      "id": "58034830-d140-47bd-8624-77dadc0d248e",
      "cell_type": "code",
      "source": "#Q1: create a list of favourite movies.\nmovies=['infinity war', 'iron man', 'thor', 'harry potter']",
      "metadata": {
        "trusted": true
      },
      "outputs": [],
      "execution_count": 2
    },
    {
      "id": "e0523815-7d12-4eb5-8821-a366902404ad",
      "cell_type": "code",
      "source": "#Q2: Iterate over the list and print each movie title.\nfor movie in movies:\n print(movie)",
      "metadata": {
        "trusted": true
      },
      "outputs": [
        {
          "name": "stdout",
          "output_type": "stream",
          "text": "infinity war\niron man\nthor\nharry potter\n"
        }
      ],
      "execution_count": 3
    },
    {
      "id": "a7cfdac5-66c7-4d22-94f6-149154516801",
      "cell_type": "code",
      "source": "#Q3: modify the loop to print the index of each movie along with its title.\nfor i in range(len(movies)):\n    print(f\"{i+1}. {movies[i]}\")",
      "metadata": {
        "trusted": true
      },
      "outputs": [
        {
          "name": "stdout",
          "output_type": "stream",
          "text": "1. infinity war\n2. iron man\n3. thor\n4. harry potter\n"
        }
      ],
      "execution_count": 6
    },
    {
      "id": "be49a487-8664-475e-abfd-5852a24b609d",
      "cell_type": "markdown",
      "source": "# String Iteration:",
      "metadata": {}
    },
    {
      "id": "0ddb483f-edc0-41a9-b08f-a8f9a2acbe3d",
      "cell_type": "code",
      "source": "#Q1: create a string variable containing your full name.\nname = \"Muhammad Usman Basit\"",
      "metadata": {
        "trusted": true
      },
      "outputs": [],
      "execution_count": 1
    },
    {
      "id": "736d9d0c-6329-479f-b510-aa32b95c8093",
      "cell_type": "code",
      "source": "#Iterate over the string and print each character on a new line. Question number 2\nfor char in name:\n    print(char)",
      "metadata": {
        "trusted": true
      },
      "outputs": [
        {
          "name": "stdout",
          "output_type": "stream",
          "text": "M\nu\nh\na\nm\nm\na\nd\n \nU\ns\nm\na\nn\n \nB\na\ns\ni\nt\n"
        }
      ],
      "execution_count": 2
    },
    {
      "id": "13d363ce-4bf6-4948-be3d-615f38c64709",
      "cell_type": "code",
      "source": "# count vowels in the name\nvowels = \"aeiouAEIOU\"\nvowel_count = sum(1 for char in name if char in vowels)\nprint(f\"Number of vowels: {vowel_count}\")",
      "metadata": {
        "trusted": true
      },
      "outputs": [
        {
          "name": "stdout",
          "output_type": "stream",
          "text": "Number of vowels: 7\n"
        }
      ],
      "execution_count": 5
    }
  ]
}