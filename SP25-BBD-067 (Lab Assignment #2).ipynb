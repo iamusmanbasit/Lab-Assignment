{
 "cells": [
  {
   "cell_type": "markdown",
   "id": "95f93d60-328c-4637-bf5d-3f1c380fa81e",
   "metadata": {},
   "source": [
    "# SP25-BBD-067\n",
    "# Usman Basit"
   ]
  },
  {
   "cell_type": "code",
   "execution_count": 2,
   "id": "0477c723-277a-4842-9876-f023eb09c4ba",
   "metadata": {},
   "outputs": [
    {
     "name": "stdout",
     "output_type": "stream",
     "text": [
      "-8\n",
      "number is negetive\n"
     ]
    }
   ],
   "source": [
    "#Q1: Write a program to check if a number is positive, negative, or zero.\n",
    "number=-8\n",
    "if number<= 0:\n",
    "    print(number)\n",
    "    print(\"number is negetive\")\n",
    "elif number==0:\n",
    "    print(number)\n",
    "    print(\"number is zero\")\n",
    "else:\n",
    "    print (number)\n",
    "    print(\"number is Positive\")"
   ]
  },
  {
   "cell_type": "code",
   "execution_count": 4,
   "id": "9b35ae9f-89db-411e-82ba-18e4dd4ddabc",
   "metadata": {},
   "outputs": [
    {
     "name": "stdout",
     "output_type": "stream",
     "text": [
      "it's a leap year\n"
     ]
    }
   ],
   "source": [
    "#Q2: Create a program to determine whether a given year is a leap year.\n",
    "year=366\n",
    "if year==366:\n",
    "    print (\"it's a leap year\")\n",
    "elif year == 365:\n",
    "    print(\"it's a common year\")\n",
    "else:\n",
    "    print(\"invalid\")"
   ]
  },
  {
   "cell_type": "code",
   "execution_count": 5,
   "id": "2b3ecc8f-22ed-482e-b4a1-7dfb48c11f91",
   "metadata": {},
   "outputs": [
    {
     "name": "stdout",
     "output_type": "stream",
     "text": [
      "you got an 'A'\n"
     ]
    }
   ],
   "source": [
    "#Q3: Write a Python program that accepts a student's marks and prints the appropriate grade based on the following criteria: A: 85 and above B: 70 to 84 C: 50 to 69 F: Below 50\n",
    "student_marks= 86\n",
    "if student_marks >= 85:\n",
    "    print(\"you got an 'A'\")\n",
    "elif student_marks >= 70:\n",
    "    print(\"you got an 'B'\")\n",
    "elif student_marks >= 50:\n",
    "    print(\"you got an 'C'\")\n",
    "else:\n",
    "    student_marks<50\n",
    "    print(\"you got an 'F'\")"
   ]
  },
  {
   "cell_type": "code",
   "execution_count": null,
   "id": "895b8c41-c2dc-4177-a507-c690f9ec1030",
   "metadata": {},
   "outputs": [],
   "source": []
  }
 ],
 "metadata": {
  "kernelspec": {
   "display_name": "Python 3 (ipykernel)",
   "language": "python",
   "name": "python3"
  },
  "language_info": {
   "codemirror_mode": {
    "name": "ipython",
    "version": 3
   },
   "file_extension": ".py",
   "mimetype": "text/x-python",
   "name": "python",
   "nbconvert_exporter": "python",
   "pygments_lexer": "ipython3",
   "version": "3.12.7"
  }
 },
 "nbformat": 4,
 "nbformat_minor": 5
}
