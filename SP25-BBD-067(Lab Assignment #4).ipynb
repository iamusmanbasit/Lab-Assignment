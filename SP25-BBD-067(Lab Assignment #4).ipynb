{
 "cells": [
  {
   "cell_type": "code",
   "execution_count": 1,
   "id": "2ab5cfa7-1e63-4b5b-bc4a-f81c2189c175",
   "metadata": {},
   "outputs": [
    {
     "name": "stdout",
     "output_type": "stream",
     "text": [
      "10\n",
      "9\n",
      "8\n",
      "7\n",
      "6\n",
      "5\n",
      "4\n",
      "3\n",
      "2\n",
      "1\n",
      "loop complete\n"
     ]
    }
   ],
   "source": [
    "#1. Simple Countdown\n",
    "num = 10\n",
    "while num  >=1:\n",
    "    print(num)\n",
    "    num -=1\n",
    "print(\"loop complete\")"
   ]
  },
  {
   "cell_type": "code",
   "execution_count": 2,
   "id": "89ab366f-3bf7-40a4-b51b-a1d6c0991716",
   "metadata": {},
   "outputs": [
    {
     "name": "stdout",
     "output_type": "stream",
     "text": [
      "10\n",
      "9\n",
      "8\n",
      "7\n",
      "6\n",
      "5\n",
      "4\n",
      "3\n",
      "2\n",
      "1\n",
      "loop complete\n"
     ]
    }
   ],
   "source": [
    "#2. Simple Countdown\n",
    "num = 10\n",
    "while num  >=1:\n",
    "    print(num)\n",
    "    num -=1\n",
    "print(\"loop complete\")"
   ]
  },
  {
   "cell_type": "code",
   "execution_count": 3,
   "id": "07c2aaf2-e2d5-4672-af62-f91d0194ffd4",
   "metadata": {},
   "outputs": [
    {
     "name": "stdin",
     "output_type": "stream",
     "text": [
      "Enter a number :  5\n"
     ]
    },
    {
     "name": "stdout",
     "output_type": "stream",
     "text": [
      "sum is :  15\n"
     ]
    }
   ],
   "source": [
    "#3. Sum of the First N Natural Numbers \n",
    "a = int(input(\"Enter a number : \"))\n",
    "i=1\n",
    "total = 0\n",
    "while i <= a:\n",
    "    total += i\n",
    "    i+= 1\n",
    "print(\"sum is : \", total)"
   ]
  },
  {
   "cell_type": "code",
   "execution_count": 4,
   "id": "71d5d18a-5b3d-41ae-a015-fab9f622ed3b",
   "metadata": {},
   "outputs": [
    {
     "name": "stdin",
     "output_type": "stream",
     "text": [
      "Enter a positive number:  65\n"
     ]
    },
    {
     "name": "stdout",
     "output_type": "stream",
     "text": [
      "Thank you!\n"
     ]
    }
   ],
   "source": [
    "#4. Basic Input Validation\n",
    "num = -1\n",
    "while num <= 0:\n",
    "    num = float(input(\"Enter a positive number: \"))\n",
    "print(\"Thank you!\")"
   ]
  },
  {
   "cell_type": "code",
   "execution_count": 5,
   "id": "214e0d63-c418-4706-9d22-b3bcac99ff42",
   "metadata": {},
   "outputs": [
    {
     "name": "stdout",
     "output_type": "stream",
     "text": [
      "p\n",
      "r\n",
      "o\n",
      "g\n",
      "r\n",
      "a\n",
      "m\n",
      "m\n",
      "i\n",
      "n\n",
      "g\n"
     ]
    }
   ],
   "source": [
    "#5. Print Characters of a String \n",
    "s = \"programming\"\n",
    "index = 0\n",
    "while index < len(s):\n",
    "    print(s[index])\n",
    "    index += 1"
   ]
  },
  {
   "cell_type": "code",
   "execution_count": 6,
   "id": "67e941f7-a93c-4443-80d8-8d795f04e050",
   "metadata": {},
   "outputs": [
    {
     "name": "stdin",
     "output_type": "stream",
     "text": [
      "Enter password:  wrong\n",
      "Enter password:  Comsats@analytics123\n"
     ]
    },
    {
     "name": "stdout",
     "output_type": "stream",
     "text": [
      "Access granted.\n"
     ]
    }
   ],
   "source": [
    "#6. Print Characters of a String \n",
    "correct_password = \"Comsats@analytics123\"\n",
    "entry = \"\"\n",
    "while entry != correct_password:\n",
    "    entry = input(\"Enter password: \")\n",
    "print(\"Access granted.\")"
   ]
  },
  {
   "cell_type": "code",
   "execution_count": 7,
   "id": "7c79126e-4be7-49ab-8d3b-cce66c09cbf6",
   "metadata": {},
   "outputs": [
    {
     "name": "stdin",
     "output_type": "stream",
     "text": [
      "Guess the number:  5\n"
     ]
    },
    {
     "name": "stdout",
     "output_type": "stream",
     "text": [
      "Too low\n"
     ]
    },
    {
     "name": "stdin",
     "output_type": "stream",
     "text": [
      "Guess the number:  15\n"
     ]
    },
    {
     "name": "stdout",
     "output_type": "stream",
     "text": [
      "Too high\n"
     ]
    },
    {
     "name": "stdin",
     "output_type": "stream",
     "text": [
      "Guess the number:  9\n"
     ]
    },
    {
     "name": "stdout",
     "output_type": "stream",
     "text": [
      "Correct!!!\n"
     ]
    }
   ],
   "source": [
    "#7. Guess the Number Game\n",
    "secret = 9\n",
    "guess = None\n",
    "while guess != secret:\n",
    "    guess = int(input(\"Guess the number: \"))\n",
    "    if guess < secret:\n",
    "        print(\"Too low\")\n",
    "    elif guess > secret:\n",
    "        print(\"Too high\")\n",
    "print(\"Correct!!!\")"
   ]
  },
  {
   "cell_type": "code",
   "execution_count": 16,
   "id": "b77be063-8758-4855-ab2a-9a9694d335dd",
   "metadata": {},
   "outputs": [
    {
     "name": "stdin",
     "output_type": "stream",
     "text": [
      "Enter a positive integer:  8\n"
     ]
    },
    {
     "name": "stdout",
     "output_type": "stream",
     "text": [
      "1 digits.\n"
     ]
    }
   ],
   "source": [
    "#8. Count Digits in a Number\n",
    "number = int(input(\"Enter a positive integer: \"))\n",
    "count = 0\n",
    "temp = abs(number)\n",
    "if temp == 0:\n",
    "    count = 1\n",
    "else:\n",
    "    while temp > 0:\n",
    "        count += 1\n",
    "        temp //= 10\n",
    "print(f\"{count} digits.\")"
   ]
  },
  {
   "cell_type": "code",
   "execution_count": 17,
   "id": "80344092-00e7-46c3-bb79-09374352973a",
   "metadata": {},
   "outputs": [
    {
     "name": "stdin",
     "output_type": "stream",
     "text": [
      "Enter a number for its multiplication table:  9\n"
     ]
    },
    {
     "name": "stdout",
     "output_type": "stream",
     "text": [
      "9 x 1 = 9\n",
      "9 x 2 = 18\n",
      "9 x 3 = 27\n",
      "9 x 4 = 36\n",
      "9 x 5 = 45\n",
      "9 x 6 = 54\n",
      "9 x 7 = 63\n",
      "9 x 8 = 72\n",
      "9 x 9 = 81\n",
      "9 x 10 = 90\n"
     ]
    }
   ],
   "source": [
    "#9. Multiplication Table Generator\n",
    "base = int(input(\"Enter a number for its multiplication table: \"))\n",
    "i = 1\n",
    "while i <= 10:\n",
    "    print(f\"{base} x {i} = {base * i}\")\n",
    "    i += 1"
   ]
  },
  {
   "cell_type": "code",
   "execution_count": 18,
   "id": "af7baf91-2c69-4477-a46a-2fea9d354102",
   "metadata": {},
   "outputs": [
    {
     "name": "stdin",
     "output_type": "stream",
     "text": [
      "Enter a number (-1 to stop):  6\n",
      "Enter a number (-1 to stop):  9\n",
      "Enter a number (-1 to stop):  3\n",
      "Enter a number (-1 to stop):  5\n",
      "Enter a number (-1 to stop):  -1\n"
     ]
    },
    {
     "name": "stdout",
     "output_type": "stream",
     "text": [
      "Average of entered numbers: 5.75\n"
     ]
    }
   ],
   "source": [
    "#10. Average Until Sentinel Value\n",
    "total = 0\n",
    "count = 0\n",
    "while True:\n",
    "    value = float(input(\"Enter a number (-1 to stop): \"))\n",
    "    if value == -1:\n",
    "        break\n",
    "    total += value\n",
    "    count += 1\n",
    "\n",
    "if count > 0:\n",
    "    print(f\"Average of entered numbers: {total / count}\")\n",
    "else:\n",
    "    print(\"No numbers were entered.\")"
   ]
  }
 ],
 "metadata": {
  "kernelspec": {
   "display_name": "Python 3 (ipykernel)",
   "language": "python",
   "name": "python3"
  },
  "language_info": {
   "codemirror_mode": {
    "name": "ipython",
    "version": 3
   },
   "file_extension": ".py",
   "mimetype": "text/x-python",
   "name": "python",
   "nbconvert_exporter": "python",
   "pygments_lexer": "ipython3",
   "version": "3.12.7"
  }
 },
 "nbformat": 4,
 "nbformat_minor": 5
}
